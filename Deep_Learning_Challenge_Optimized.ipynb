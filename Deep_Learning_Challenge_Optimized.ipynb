{
 "cells": [
  {
   "cell_type": "markdown",
   "id": "d5a795e1",
   "metadata": {},
   "source": [
    "## Deep Learning Model Optimization"
   ]
  },
  {
   "cell_type": "markdown",
   "id": "f751dd76",
   "metadata": {},
   "source": [
    "#### Dependencies Required"
   ]
  },
  {
   "cell_type": "code",
   "execution_count": 1,
   "id": "f96b6aa4",
   "metadata": {},
   "outputs": [],
   "source": [
    "from sklearn.model_selection import train_test_split\n",
    "from sklearn.preprocessing import StandardScaler\n",
    "import pandas as pd\n",
    "import tensorflow as tf\n",
    "\n",
    "from sklearn.metrics import accuracy_score\n",
    "from sklearn.ensemble import RandomForestClassifier "
   ]
  },
  {
   "cell_type": "markdown",
   "id": "b7fa89e8",
   "metadata": {},
   "source": [
    "#### Import CSV file"
   ]
  },
  {
   "cell_type": "code",
   "execution_count": 2,
   "id": "2b9281c4",
   "metadata": {},
   "outputs": [
    {
     "data": {
      "text/html": [
       "<div>\n",
       "<style scoped>\n",
       "    .dataframe tbody tr th:only-of-type {\n",
       "        vertical-align: middle;\n",
       "    }\n",
       "\n",
       "    .dataframe tbody tr th {\n",
       "        vertical-align: top;\n",
       "    }\n",
       "\n",
       "    .dataframe thead th {\n",
       "        text-align: right;\n",
       "    }\n",
       "</style>\n",
       "<table border=\"1\" class=\"dataframe\">\n",
       "  <thead>\n",
       "    <tr style=\"text-align: right;\">\n",
       "      <th></th>\n",
       "      <th>EIN</th>\n",
       "      <th>NAME</th>\n",
       "      <th>APPLICATION_TYPE</th>\n",
       "      <th>AFFILIATION</th>\n",
       "      <th>CLASSIFICATION</th>\n",
       "      <th>USE_CASE</th>\n",
       "      <th>ORGANIZATION</th>\n",
       "      <th>STATUS</th>\n",
       "      <th>INCOME_AMT</th>\n",
       "      <th>SPECIAL_CONSIDERATIONS</th>\n",
       "      <th>ASK_AMT</th>\n",
       "      <th>IS_SUCCESSFUL</th>\n",
       "    </tr>\n",
       "  </thead>\n",
       "  <tbody>\n",
       "    <tr>\n",
       "      <th>0</th>\n",
       "      <td>10520599</td>\n",
       "      <td>BLUE KNIGHTS MOTORCYCLE CLUB</td>\n",
       "      <td>T10</td>\n",
       "      <td>Independent</td>\n",
       "      <td>C1000</td>\n",
       "      <td>ProductDev</td>\n",
       "      <td>Association</td>\n",
       "      <td>1</td>\n",
       "      <td>0</td>\n",
       "      <td>N</td>\n",
       "      <td>5000</td>\n",
       "      <td>1</td>\n",
       "    </tr>\n",
       "    <tr>\n",
       "      <th>1</th>\n",
       "      <td>10531628</td>\n",
       "      <td>AMERICAN CHESAPEAKE CLUB CHARITABLE TR</td>\n",
       "      <td>T3</td>\n",
       "      <td>Independent</td>\n",
       "      <td>C2000</td>\n",
       "      <td>Preservation</td>\n",
       "      <td>Co-operative</td>\n",
       "      <td>1</td>\n",
       "      <td>1-9999</td>\n",
       "      <td>N</td>\n",
       "      <td>108590</td>\n",
       "      <td>1</td>\n",
       "    </tr>\n",
       "    <tr>\n",
       "      <th>2</th>\n",
       "      <td>10547893</td>\n",
       "      <td>ST CLOUD PROFESSIONAL FIREFIGHTERS</td>\n",
       "      <td>T5</td>\n",
       "      <td>CompanySponsored</td>\n",
       "      <td>C3000</td>\n",
       "      <td>ProductDev</td>\n",
       "      <td>Association</td>\n",
       "      <td>1</td>\n",
       "      <td>0</td>\n",
       "      <td>N</td>\n",
       "      <td>5000</td>\n",
       "      <td>0</td>\n",
       "    </tr>\n",
       "    <tr>\n",
       "      <th>3</th>\n",
       "      <td>10553066</td>\n",
       "      <td>SOUTHSIDE ATHLETIC ASSOCIATION</td>\n",
       "      <td>T3</td>\n",
       "      <td>CompanySponsored</td>\n",
       "      <td>C2000</td>\n",
       "      <td>Preservation</td>\n",
       "      <td>Trust</td>\n",
       "      <td>1</td>\n",
       "      <td>10000-24999</td>\n",
       "      <td>N</td>\n",
       "      <td>6692</td>\n",
       "      <td>1</td>\n",
       "    </tr>\n",
       "    <tr>\n",
       "      <th>4</th>\n",
       "      <td>10556103</td>\n",
       "      <td>GENETIC RESEARCH INSTITUTE OF THE DESERT</td>\n",
       "      <td>T3</td>\n",
       "      <td>Independent</td>\n",
       "      <td>C1000</td>\n",
       "      <td>Heathcare</td>\n",
       "      <td>Trust</td>\n",
       "      <td>1</td>\n",
       "      <td>100000-499999</td>\n",
       "      <td>N</td>\n",
       "      <td>142590</td>\n",
       "      <td>1</td>\n",
       "    </tr>\n",
       "  </tbody>\n",
       "</table>\n",
       "</div>"
      ],
      "text/plain": [
       "        EIN                                      NAME APPLICATION_TYPE  \\\n",
       "0  10520599              BLUE KNIGHTS MOTORCYCLE CLUB              T10   \n",
       "1  10531628    AMERICAN CHESAPEAKE CLUB CHARITABLE TR               T3   \n",
       "2  10547893        ST CLOUD PROFESSIONAL FIREFIGHTERS               T5   \n",
       "3  10553066            SOUTHSIDE ATHLETIC ASSOCIATION               T3   \n",
       "4  10556103  GENETIC RESEARCH INSTITUTE OF THE DESERT               T3   \n",
       "\n",
       "        AFFILIATION CLASSIFICATION      USE_CASE  ORGANIZATION  STATUS  \\\n",
       "0       Independent          C1000    ProductDev   Association       1   \n",
       "1       Independent          C2000  Preservation  Co-operative       1   \n",
       "2  CompanySponsored          C3000    ProductDev   Association       1   \n",
       "3  CompanySponsored          C2000  Preservation         Trust       1   \n",
       "4       Independent          C1000     Heathcare         Trust       1   \n",
       "\n",
       "      INCOME_AMT SPECIAL_CONSIDERATIONS  ASK_AMT  IS_SUCCESSFUL  \n",
       "0              0                      N     5000              1  \n",
       "1         1-9999                      N   108590              1  \n",
       "2              0                      N     5000              0  \n",
       "3    10000-24999                      N     6692              1  \n",
       "4  100000-499999                      N   142590              1  "
      ]
     },
     "execution_count": 2,
     "metadata": {},
     "output_type": "execute_result"
    }
   ],
   "source": [
    "import pandas as pd \n",
    "df = pd.read_csv(\"charity_data.csv\")\n",
    "df.head()"
   ]
  },
  {
   "cell_type": "code",
   "execution_count": 3,
   "id": "d83d8cb7",
   "metadata": {},
   "outputs": [],
   "source": [
    "df = df.drop([\"EIN\"],1)"
   ]
  },
  {
   "cell_type": "code",
   "execution_count": 4,
   "id": "51b9cb08",
   "metadata": {},
   "outputs": [
    {
     "data": {
      "text/plain": [
       "NAME                      19568\n",
       "APPLICATION_TYPE             17\n",
       "AFFILIATION                   6\n",
       "CLASSIFICATION               71\n",
       "USE_CASE                      5\n",
       "ORGANIZATION                  4\n",
       "STATUS                        2\n",
       "INCOME_AMT                    9\n",
       "SPECIAL_CONSIDERATIONS        2\n",
       "ASK_AMT                    8747\n",
       "IS_SUCCESSFUL                 2\n",
       "dtype: int64"
      ]
     },
     "execution_count": 4,
     "metadata": {},
     "output_type": "execute_result"
    }
   ],
   "source": [
    "df.nunique()"
   ]
  },
  {
   "cell_type": "markdown",
   "id": "7151346b",
   "metadata": {},
   "source": [
    "#### Examine for Binning"
   ]
  },
  {
   "cell_type": "code",
   "execution_count": 5,
   "id": "0c41c234",
   "metadata": {},
   "outputs": [
    {
     "data": {
      "text/plain": [
       "PARENT BOOSTER USA INC                             1260\n",
       "TOPS CLUB INC                                       765\n",
       "UNITED STATES BOWLING CONGRESS INC                  700\n",
       "WASHINGTON STATE UNIVERSITY                         492\n",
       "AMATEUR ATHLETIC UNION OF THE UNITED STATES INC     408\n",
       "                                                   ... \n",
       "TEXAS FEDERATION OF WOMEN CLUBS                       6\n",
       "NATIONAL CHARITY LEAGUE INC                           6\n",
       "CBMC INC                                              6\n",
       "THE READING FOUNDATION                                6\n",
       "FULBRIGHT ASSOCIATION INC                             6\n",
       "Name: NAME, Length: 354, dtype: int64"
      ]
     },
     "execution_count": 5,
     "metadata": {},
     "output_type": "execute_result"
    }
   ],
   "source": [
    "name_counts = df['NAME'].value_counts()\n",
    "name_counts[name_counts>5]"
   ]
  },
  {
   "cell_type": "markdown",
   "id": "7071f655",
   "metadata": {},
   "source": [
    "#### Replace Names"
   ]
  },
  {
   "cell_type": "code",
   "execution_count": 6,
   "id": "bd815620",
   "metadata": {},
   "outputs": [
    {
     "data": {
      "text/plain": [
       "Other                                                         20043\n",
       "PARENT BOOSTER USA INC                                         1260\n",
       "TOPS CLUB INC                                                   765\n",
       "UNITED STATES BOWLING CONGRESS INC                              700\n",
       "WASHINGTON STATE UNIVERSITY                                     492\n",
       "                                                              ...  \n",
       "TEXAS FEDERATION OF WOMEN CLUBS                                   6\n",
       "HABITAT FOR HUMANITY INTERNATIONAL                                6\n",
       "MONTANA CONGRESS OF PARENTS TEACHERS STUDENTS                     6\n",
       "DEPARTMENT OF OREGON LADIES AUXILLARY TO THE VFW OF THE US        6\n",
       "HANDS FOR LIFE                                                    6\n",
       "Name: NAME, Length: 355, dtype: int64"
      ]
     },
     "execution_count": 6,
     "metadata": {},
     "output_type": "execute_result"
    }
   ],
   "source": [
    "names_to_replace = list(name_counts[name_counts <= 5].index)\n",
    "\n",
    "# Loop to Replace Names\n",
    "for app in names_to_replace:\n",
    "    df['NAME'] = df['NAME'].replace(app,\"Other\")\n",
    "    \n",
    "# Verification\n",
    "df['NAME'].value_counts()"
   ]
  },
  {
   "cell_type": "markdown",
   "id": "43f3163d",
   "metadata": {},
   "source": [
    "#### Application Types"
   ]
  },
  {
   "cell_type": "code",
   "execution_count": 7,
   "id": "05ac6812",
   "metadata": {},
   "outputs": [
    {
     "data": {
      "text/plain": [
       "T3     27037\n",
       "T4      1542\n",
       "T6      1216\n",
       "T5      1173\n",
       "T19     1065\n",
       "T8       737\n",
       "T7       725\n",
       "T10      528\n",
       "T9       156\n",
       "T13       66\n",
       "T12       27\n",
       "T2        16\n",
       "T25        3\n",
       "T14        3\n",
       "T15        2\n",
       "T29        2\n",
       "T17        1\n",
       "Name: APPLICATION_TYPE, dtype: int64"
      ]
     },
     "execution_count": 7,
     "metadata": {},
     "output_type": "execute_result"
    }
   ],
   "source": [
    "application_counts = df['APPLICATION_TYPE'].value_counts()\n",
    "application_counts"
   ]
  },
  {
   "cell_type": "markdown",
   "id": "749500e2",
   "metadata": {},
   "source": [
    "#### Replace Application Types"
   ]
  },
  {
   "cell_type": "code",
   "execution_count": 8,
   "id": "1bc0f0d3",
   "metadata": {},
   "outputs": [
    {
     "data": {
      "text/plain": [
       "T3       27037\n",
       "T4        1542\n",
       "T6        1216\n",
       "T5        1173\n",
       "T19       1065\n",
       "T8         737\n",
       "T7         725\n",
       "T10        528\n",
       "Other      276\n",
       "Name: APPLICATION_TYPE, dtype: int64"
      ]
     },
     "execution_count": 8,
     "metadata": {},
     "output_type": "execute_result"
    }
   ],
   "source": [
    "application_types_to_replace = list(application_counts[application_counts < 500].index)\n",
    "\n",
    "# Loop for Replacing Application Types\n",
    "for app in application_types_to_replace:\n",
    "    df['APPLICATION_TYPE'] = df['APPLICATION_TYPE'].replace(app,\"Other\")\n",
    "\n",
    "# verification\n",
    "df['APPLICATION_TYPE'].value_counts()"
   ]
  },
  {
   "cell_type": "markdown",
   "id": "934b1baa",
   "metadata": {},
   "source": [
    "#### Classification Binning"
   ]
  },
  {
   "cell_type": "code",
   "execution_count": 9,
   "id": "35d138fe",
   "metadata": {},
   "outputs": [
    {
     "data": {
      "text/plain": [
       "C1000    17326\n",
       "C2000     6074\n",
       "C1200     4837\n",
       "C3000     1918\n",
       "C2100     1883\n",
       "         ...  \n",
       "C2190        1\n",
       "C4200        1\n",
       "C1248        1\n",
       "C2561        1\n",
       "C1236        1\n",
       "Name: CLASSIFICATION, Length: 71, dtype: int64"
      ]
     },
     "execution_count": 9,
     "metadata": {},
     "output_type": "execute_result"
    }
   ],
   "source": [
    "# Look at CLASSIFICATION value counts for binning\n",
    "class_counts = df['CLASSIFICATION'].value_counts()\n",
    "class_counts"
   ]
  },
  {
   "cell_type": "code",
   "execution_count": 10,
   "id": "8350c97b",
   "metadata": {},
   "outputs": [
    {
     "data": {
      "text/plain": [
       "C1000    17326\n",
       "C2000     6074\n",
       "C1200     4837\n",
       "Other     2261\n",
       "C3000     1918\n",
       "C2100     1883\n",
       "Name: CLASSIFICATION, dtype: int64"
      ]
     },
     "execution_count": 10,
     "metadata": {},
     "output_type": "execute_result"
    }
   ],
   "source": [
    "classes_to_replace = list(class_counts[class_counts < 1000].index)\n",
    "\n",
    "# Loop to Replace Classification\n",
    "for cls in classes_to_replace:\n",
    "    df['CLASSIFICATION'] = df['CLASSIFICATION'].replace(cls,\"Other\")\n",
    "    \n",
    "# Verification\n",
    "df['CLASSIFICATION'].value_counts()"
   ]
  },
  {
   "cell_type": "markdown",
   "id": "93a84bdf",
   "metadata": {},
   "source": [
    "#### Create Variable List & Create Dummies"
   ]
  },
  {
   "cell_type": "code",
   "execution_count": 12,
   "id": "ec11c7a3",
   "metadata": {},
   "outputs": [],
   "source": [
    "# Generate our categorical variable lists\n",
    "application_cat = df.dtypes[df.dtypes == \"object\"].index.tolist()"
   ]
  },
  {
   "cell_type": "code",
   "execution_count": 13,
   "id": "9ea998e8",
   "metadata": {},
   "outputs": [],
   "source": [
    "application_with_dummies_df = pd.get_dummies(df)"
   ]
  },
  {
   "cell_type": "markdown",
   "id": "d06699cd",
   "metadata": {},
   "source": [
    "#### Split Preprocessed Data"
   ]
  },
  {
   "cell_type": "code",
   "execution_count": 14,
   "id": "5c77fc71",
   "metadata": {},
   "outputs": [],
   "source": [
    "X = application_with_dummies_df.drop([\"IS_SUCCESSFUL\"], axis='columns').values\n",
    "y = application_with_dummies_df[\"IS_SUCCESSFUL\"].values\n",
    "\n",
    "X_train, X_test, y_train, y_test = train_test_split(X, y, random_state=78)"
   ]
  },
  {
   "cell_type": "markdown",
   "id": "b53d4553",
   "metadata": {},
   "source": [
    "#### Scale Data"
   ]
  },
  {
   "cell_type": "code",
   "execution_count": 15,
   "id": "4bca6d7d",
   "metadata": {},
   "outputs": [],
   "source": [
    "# Create a StandardScaler instances\n",
    "scaler = StandardScaler()\n",
    "\n",
    "# Fit the StandardScaler\n",
    "X_scaler = scaler.fit(X_train)\n",
    "\n",
    "# Scale the data\n",
    "X_train_scaled = X_scaler.transform(X_train)\n",
    "X_test_scaled = X_scaler.transform(X_test)"
   ]
  },
  {
   "cell_type": "markdown",
   "id": "343223f4",
   "metadata": {},
   "source": [
    "#### Define Neural Net"
   ]
  },
  {
   "cell_type": "code",
   "execution_count": 16,
   "id": "fcdd3daf",
   "metadata": {},
   "outputs": [
    {
     "name": "stdout",
     "output_type": "stream",
     "text": [
      "Model: \"sequential\"\n",
      "_________________________________________________________________\n",
      " Layer (type)                Output Shape              Param #   \n",
      "=================================================================\n",
      " dense (Dense)               (None, 100)               39900     \n",
      "                                                                 \n",
      " dense_1 (Dense)             (None, 30)                3030      \n",
      "                                                                 \n",
      " dense_2 (Dense)             (None, 10)                310       \n",
      "                                                                 \n",
      " dense_3 (Dense)             (None, 1)                 11        \n",
      "                                                                 \n",
      "=================================================================\n",
      "Total params: 43,251\n",
      "Trainable params: 43,251\n",
      "Non-trainable params: 0\n",
      "_________________________________________________________________\n"
     ]
    }
   ],
   "source": [
    "number_input_features = len(X_train[0])\n",
    "hidden_nodes_layer1 =  100\n",
    "hidden_nodes_layer2 = 30\n",
    "hidden_nodes_layer3 = 10\n",
    "\n",
    "nn = tf.keras.models.Sequential()\n",
    "\n",
    "# First hidden layer\n",
    "nn.add(\n",
    "    tf.keras.layers.Dense(units=hidden_nodes_layer1, input_dim=number_input_features, activation=\"relu\")\n",
    ")\n",
    "\n",
    "# Second hidden layer\n",
    "nn.add(tf.keras.layers.Dense(units=hidden_nodes_layer2, activation=\"sigmoid\"))\n",
    "\n",
    "# Third hidden layer\n",
    "nn.add(tf.keras.layers.Dense(units=hidden_nodes_layer3, activation=\"sigmoid\"))\n",
    "\n",
    "# Output layer\n",
    "nn.add(tf.keras.layers.Dense(units=1, activation=\"sigmoid\"))\n",
    "\n",
    "# Check the structure of the model\n",
    "nn.summary()"
   ]
  },
  {
   "cell_type": "markdown",
   "id": "cd75fe18",
   "metadata": {},
   "source": [
    "#### Compile Model"
   ]
  },
  {
   "cell_type": "code",
   "execution_count": 17,
   "id": "27a47ece",
   "metadata": {},
   "outputs": [],
   "source": [
    "# Compile the model\n",
    "nn.compile(loss=\"binary_crossentropy\", optimizer=\"adam\", metrics=[\"accuracy\"])"
   ]
  },
  {
   "cell_type": "markdown",
   "id": "f0226456",
   "metadata": {},
   "source": [
    "#### Train Model"
   ]
  },
  {
   "cell_type": "code",
   "execution_count": 18,
   "id": "de41c200",
   "metadata": {},
   "outputs": [
    {
     "name": "stdout",
     "output_type": "stream",
     "text": [
      "Epoch 1/100\n",
      "804/804 [==============================] - 2s 2ms/step - loss: 0.4957 - accuracy: 0.7752\n",
      "Epoch 2/100\n",
      "804/804 [==============================] - 1s 2ms/step - loss: 0.4442 - accuracy: 0.7929\n",
      "Epoch 3/100\n",
      "804/804 [==============================] - 1s 2ms/step - loss: 0.4345 - accuracy: 0.7954\n",
      "Epoch 4/100\n",
      "804/804 [==============================] - 1s 2ms/step - loss: 0.4300 - accuracy: 0.7956\n",
      "Epoch 5/100\n",
      "804/804 [==============================] - 2s 2ms/step - loss: 0.4276 - accuracy: 0.7975\n",
      "Epoch 6/100\n",
      "804/804 [==============================] - 2s 2ms/step - loss: 0.4253 - accuracy: 0.7972\n",
      "Epoch 7/100\n",
      "804/804 [==============================] - 1s 2ms/step - loss: 0.4242 - accuracy: 0.7975\n",
      "Epoch 8/100\n",
      "804/804 [==============================] - 1s 2ms/step - loss: 0.4225 - accuracy: 0.7997\n",
      "Epoch 9/100\n",
      "804/804 [==============================] - 2s 2ms/step - loss: 0.4214 - accuracy: 0.7997\n",
      "Epoch 10/100\n",
      "804/804 [==============================] - 1s 2ms/step - loss: 0.4205 - accuracy: 0.7993\n",
      "Epoch 11/100\n",
      "804/804 [==============================] - 1s 2ms/step - loss: 0.4193 - accuracy: 0.8002\n",
      "Epoch 12/100\n",
      "804/804 [==============================] - 2s 2ms/step - loss: 0.4189 - accuracy: 0.7992\n",
      "Epoch 13/100\n",
      "804/804 [==============================] - 1s 2ms/step - loss: 0.4182 - accuracy: 0.7998\n",
      "Epoch 14/100\n",
      "804/804 [==============================] - 1s 1ms/step - loss: 0.4179 - accuracy: 0.8008\n",
      "Epoch 15/100\n",
      "804/804 [==============================] - 2s 2ms/step - loss: 0.4172 - accuracy: 0.8011\n",
      "Epoch 16/100\n",
      "804/804 [==============================] - 1s 2ms/step - loss: 0.4161 - accuracy: 0.8012\n",
      "Epoch 17/100\n",
      "804/804 [==============================] - 1s 2ms/step - loss: 0.4155 - accuracy: 0.8010\n",
      "Epoch 18/100\n",
      "804/804 [==============================] - 2s 2ms/step - loss: 0.4151 - accuracy: 0.8026\n",
      "Epoch 19/100\n",
      "804/804 [==============================] - 1s 1ms/step - loss: 0.4142 - accuracy: 0.8022\n",
      "Epoch 20/100\n",
      "804/804 [==============================] - 1s 1ms/step - loss: 0.4141 - accuracy: 0.8029\n",
      "Epoch 21/100\n",
      "804/804 [==============================] - 2s 2ms/step - loss: 0.4134 - accuracy: 0.8024\n",
      "Epoch 22/100\n",
      "804/804 [==============================] - 1s 2ms/step - loss: 0.4128 - accuracy: 0.8025\n",
      "Epoch 23/100\n",
      "804/804 [==============================] - 1s 1ms/step - loss: 0.4126 - accuracy: 0.8036\n",
      "Epoch 24/100\n",
      "804/804 [==============================] - 1s 1ms/step - loss: 0.4121 - accuracy: 0.8037\n",
      "Epoch 25/100\n",
      "804/804 [==============================] - 2s 2ms/step - loss: 0.4118 - accuracy: 0.8033\n",
      "Epoch 26/100\n",
      "804/804 [==============================] - 2s 2ms/step - loss: 0.4114 - accuracy: 0.8038\n",
      "Epoch 27/100\n",
      "804/804 [==============================] - 2s 2ms/step - loss: 0.4108 - accuracy: 0.8045\n",
      "Epoch 28/100\n",
      "804/804 [==============================] - 1s 2ms/step - loss: 0.4105 - accuracy: 0.8042\n",
      "Epoch 29/100\n",
      "804/804 [==============================] - 1s 1ms/step - loss: 0.4105 - accuracy: 0.8051\n",
      "Epoch 30/100\n",
      "804/804 [==============================] - 1s 1ms/step - loss: 0.4102 - accuracy: 0.8040\n",
      "Epoch 31/100\n",
      "804/804 [==============================] - 1s 1ms/step - loss: 0.4096 - accuracy: 0.8047\n",
      "Epoch 32/100\n",
      "804/804 [==============================] - 1s 2ms/step - loss: 0.4095 - accuracy: 0.8042\n",
      "Epoch 33/100\n",
      "804/804 [==============================] - 1s 2ms/step - loss: 0.4091 - accuracy: 0.8052\n",
      "Epoch 34/100\n",
      "804/804 [==============================] - 2s 2ms/step - loss: 0.4087 - accuracy: 0.8044\n",
      "Epoch 35/100\n",
      "804/804 [==============================] - 1s 1ms/step - loss: 0.4089 - accuracy: 0.8050\n",
      "Epoch 36/100\n",
      "804/804 [==============================] - 2s 2ms/step - loss: 0.4083 - accuracy: 0.8047\n",
      "Epoch 37/100\n",
      "804/804 [==============================] - 2s 2ms/step - loss: 0.4078 - accuracy: 0.8062\n",
      "Epoch 38/100\n",
      "804/804 [==============================] - 1s 2ms/step - loss: 0.4077 - accuracy: 0.8061\n",
      "Epoch 39/100\n",
      "804/804 [==============================] - 1s 2ms/step - loss: 0.4076 - accuracy: 0.8052\n",
      "Epoch 40/100\n",
      "804/804 [==============================] - 1s 2ms/step - loss: 0.4080 - accuracy: 0.8057\n",
      "Epoch 41/100\n",
      "804/804 [==============================] - 2s 2ms/step - loss: 0.4072 - accuracy: 0.8058\n",
      "Epoch 42/100\n",
      "804/804 [==============================] - 1s 2ms/step - loss: 0.4070 - accuracy: 0.8057\n",
      "Epoch 43/100\n",
      "804/804 [==============================] - 2s 2ms/step - loss: 0.4071 - accuracy: 0.8065\n",
      "Epoch 44/100\n",
      "804/804 [==============================] - 1s 2ms/step - loss: 0.4067 - accuracy: 0.8064\n",
      "Epoch 45/100\n",
      "804/804 [==============================] - 1s 2ms/step - loss: 0.4064 - accuracy: 0.8054\n",
      "Epoch 46/100\n",
      "804/804 [==============================] - 1s 1ms/step - loss: 0.4062 - accuracy: 0.8060\n",
      "Epoch 47/100\n",
      "804/804 [==============================] - 2s 2ms/step - loss: 0.4063 - accuracy: 0.8063\n",
      "Epoch 48/100\n",
      "804/804 [==============================] - 1s 2ms/step - loss: 0.4062 - accuracy: 0.8064\n",
      "Epoch 49/100\n",
      "804/804 [==============================] - 1s 2ms/step - loss: 0.4058 - accuracy: 0.8071\n",
      "Epoch 50/100\n",
      "804/804 [==============================] - 1s 1ms/step - loss: 0.4052 - accuracy: 0.8071\n",
      "Epoch 51/100\n",
      "804/804 [==============================] - 1s 2ms/step - loss: 0.4056 - accuracy: 0.8057\n",
      "Epoch 52/100\n",
      "804/804 [==============================] - 1s 2ms/step - loss: 0.4051 - accuracy: 0.8074\n",
      "Epoch 53/100\n",
      "804/804 [==============================] - 1s 2ms/step - loss: 0.4047 - accuracy: 0.8070\n",
      "Epoch 54/100\n",
      "804/804 [==============================] - 2s 2ms/step - loss: 0.4047 - accuracy: 0.8068\n",
      "Epoch 55/100\n",
      "804/804 [==============================] - 2s 2ms/step - loss: 0.4046 - accuracy: 0.8068\n",
      "Epoch 56/100\n",
      "804/804 [==============================] - 1s 2ms/step - loss: 0.4049 - accuracy: 0.8067\n",
      "Epoch 57/100\n",
      "804/804 [==============================] - 1s 2ms/step - loss: 0.4045 - accuracy: 0.8071\n",
      "Epoch 58/100\n",
      "804/804 [==============================] - 2s 2ms/step - loss: 0.4042 - accuracy: 0.8073\n",
      "Epoch 59/100\n",
      "804/804 [==============================] - 2s 2ms/step - loss: 0.4045 - accuracy: 0.8063\n",
      "Epoch 60/100\n",
      "804/804 [==============================] - 1s 2ms/step - loss: 0.4039 - accuracy: 0.8073\n",
      "Epoch 61/100\n",
      "804/804 [==============================] - 2s 2ms/step - loss: 0.4037 - accuracy: 0.8075\n",
      "Epoch 62/100\n",
      "804/804 [==============================] - 2s 2ms/step - loss: 0.4040 - accuracy: 0.8069\n",
      "Epoch 63/100\n",
      "804/804 [==============================] - 1s 2ms/step - loss: 0.4042 - accuracy: 0.8080\n",
      "Epoch 64/100\n",
      "804/804 [==============================] - 1s 1ms/step - loss: 0.4039 - accuracy: 0.8082\n",
      "Epoch 65/100\n",
      "804/804 [==============================] - 1s 2ms/step - loss: 0.4037 - accuracy: 0.8083\n",
      "Epoch 66/100\n",
      "804/804 [==============================] - 2s 2ms/step - loss: 0.4038 - accuracy: 0.8081\n",
      "Epoch 67/100\n",
      "804/804 [==============================] - 1s 1ms/step - loss: 0.4038 - accuracy: 0.8079\n",
      "Epoch 68/100\n",
      "804/804 [==============================] - 1s 2ms/step - loss: 0.4030 - accuracy: 0.8077\n",
      "Epoch 69/100\n",
      "804/804 [==============================] - 1s 2ms/step - loss: 0.4033 - accuracy: 0.8077\n",
      "Epoch 70/100\n",
      "804/804 [==============================] - 1s 2ms/step - loss: 0.4031 - accuracy: 0.8071\n",
      "Epoch 71/100\n",
      "804/804 [==============================] - 1s 2ms/step - loss: 0.4031 - accuracy: 0.8073\n",
      "Epoch 72/100\n",
      "804/804 [==============================] - 2s 2ms/step - loss: 0.4034 - accuracy: 0.8087\n",
      "Epoch 73/100\n",
      "804/804 [==============================] - 2s 2ms/step - loss: 0.4032 - accuracy: 0.8080\n",
      "Epoch 74/100\n",
      "804/804 [==============================] - 1s 1ms/step - loss: 0.4030 - accuracy: 0.8085\n",
      "Epoch 75/100\n",
      "804/804 [==============================] - 1s 2ms/step - loss: 0.4030 - accuracy: 0.8084\n",
      "Epoch 76/100\n",
      "804/804 [==============================] - 1s 2ms/step - loss: 0.4029 - accuracy: 0.8091\n",
      "Epoch 77/100\n",
      "804/804 [==============================] - 1s 1ms/step - loss: 0.4027 - accuracy: 0.8080\n",
      "Epoch 78/100\n",
      "804/804 [==============================] - 1s 1ms/step - loss: 0.4024 - accuracy: 0.8084\n",
      "Epoch 79/100\n",
      "804/804 [==============================] - 1s 1ms/step - loss: 0.4022 - accuracy: 0.8083\n",
      "Epoch 80/100\n",
      "804/804 [==============================] - 1s 1ms/step - loss: 0.4024 - accuracy: 0.8087\n",
      "Epoch 81/100\n"
     ]
    },
    {
     "name": "stdout",
     "output_type": "stream",
     "text": [
      "804/804 [==============================] - 2s 2ms/step - loss: 0.4021 - accuracy: 0.8082\n",
      "Epoch 82/100\n",
      "804/804 [==============================] - 1s 2ms/step - loss: 0.4020 - accuracy: 0.8088\n",
      "Epoch 83/100\n",
      "804/804 [==============================] - 1s 2ms/step - loss: 0.4018 - accuracy: 0.8086\n",
      "Epoch 84/100\n",
      "804/804 [==============================] - 2s 2ms/step - loss: 0.4023 - accuracy: 0.8082\n",
      "Epoch 85/100\n",
      "804/804 [==============================] - 2s 2ms/step - loss: 0.4024 - accuracy: 0.8078\n",
      "Epoch 86/100\n",
      "804/804 [==============================] - 1s 2ms/step - loss: 0.4017 - accuracy: 0.8078\n",
      "Epoch 87/100\n",
      "804/804 [==============================] - 2s 2ms/step - loss: 0.4017 - accuracy: 0.8081\n",
      "Epoch 88/100\n",
      "804/804 [==============================] - 2s 2ms/step - loss: 0.4019 - accuracy: 0.8085\n",
      "Epoch 89/100\n",
      "804/804 [==============================] - 2s 2ms/step - loss: 0.4023 - accuracy: 0.8080\n",
      "Epoch 90/100\n",
      "804/804 [==============================] - 2s 2ms/step - loss: 0.4027 - accuracy: 0.8082\n",
      "Epoch 91/100\n",
      "804/804 [==============================] - 2s 2ms/step - loss: 0.4017 - accuracy: 0.8082\n",
      "Epoch 92/100\n",
      "804/804 [==============================] - 2s 2ms/step - loss: 0.4019 - accuracy: 0.8083\n",
      "Epoch 93/100\n",
      "804/804 [==============================] - 1s 2ms/step - loss: 0.4019 - accuracy: 0.8081\n",
      "Epoch 94/100\n",
      "804/804 [==============================] - 1s 1ms/step - loss: 0.4017 - accuracy: 0.8089\n",
      "Epoch 95/100\n",
      "804/804 [==============================] - 2s 2ms/step - loss: 0.4015 - accuracy: 0.8083\n",
      "Epoch 96/100\n",
      "804/804 [==============================] - 1s 2ms/step - loss: 0.4019 - accuracy: 0.8085\n",
      "Epoch 97/100\n",
      "804/804 [==============================] - 1s 1ms/step - loss: 0.4020 - accuracy: 0.8090\n",
      "Epoch 98/100\n",
      "804/804 [==============================] - 1s 1ms/step - loss: 0.4019 - accuracy: 0.8086\n",
      "Epoch 99/100\n",
      "804/804 [==============================] - 2s 2ms/step - loss: 0.4019 - accuracy: 0.8083\n",
      "Epoch 100/100\n",
      "804/804 [==============================] - 2s 2ms/step - loss: 0.4016 - accuracy: 0.8089\n"
     ]
    }
   ],
   "source": [
    "fit_model = nn.fit(X_train_scaled,y_train,epochs=100)"
   ]
  },
  {
   "cell_type": "markdown",
   "id": "17a49acf",
   "metadata": {},
   "source": [
    "#### Model Evaluation & Accuracy"
   ]
  },
  {
   "cell_type": "code",
   "execution_count": 19,
   "id": "cf3c8356",
   "metadata": {},
   "outputs": [
    {
     "name": "stdout",
     "output_type": "stream",
     "text": [
      "268/268 - 0s - loss: 0.4463 - accuracy: 0.7893 - 357ms/epoch - 1ms/step\n",
      "Loss: 0.44630560278892517, Accuracy: 0.7892711162567139\n"
     ]
    }
   ],
   "source": [
    "model_loss, model_accuracy = nn.evaluate(X_test_scaled,y_test,verbose=2)\n",
    "print(f\"Loss: {model_loss}, Accuracy: {model_accuracy}\")"
   ]
  },
  {
   "cell_type": "markdown",
   "id": "9445cd8f",
   "metadata": {},
   "source": [
    "#### Export Model to .h5 file"
   ]
  },
  {
   "cell_type": "code",
   "execution_count": 20,
   "id": "b1d05087",
   "metadata": {},
   "outputs": [],
   "source": [
    "# Export our model to HDF5 file\n",
    "nn.save(\"AlphabetSoupCharity_Optimization.h5\")"
   ]
  },
  {
   "cell_type": "markdown",
   "id": "e9f995bf",
   "metadata": {},
   "source": [
    "#### Random Forest Classification Model, Fitting, Evaluation"
   ]
  },
  {
   "cell_type": "code",
   "execution_count": 21,
   "id": "7e74779b",
   "metadata": {},
   "outputs": [
    {
     "name": "stdout",
     "output_type": "stream",
     "text": [
      " Random forest model accuracy: 0.776\n"
     ]
    }
   ],
   "source": [
    "rf_model = RandomForestClassifier(n_estimators=128, random_state=78) \n",
    "\n",
    "rf_model = rf_model.fit(X_train_scaled, y_train)\n",
    "\n",
    "y_pred = rf_model.predict(X_test_scaled)\n",
    "print(f\" Random forest model accuracy: {accuracy_score(y_test,y_pred):.3f}\")"
   ]
  },
  {
   "cell_type": "markdown",
   "id": "2c0e36f7",
   "metadata": {},
   "source": [
    "## Data Preprocessing"
   ]
  },
  {
   "cell_type": "markdown",
   "id": "509e251a",
   "metadata": {},
   "source": [
    "#### What variable(s) are considered the target(s) for your model?"
   ]
  },
  {
   "cell_type": "markdown",
   "id": "82a00227",
   "metadata": {},
   "source": [
    "    \"Is-Successful\" Column"
   ]
  },
  {
   "cell_type": "markdown",
   "id": "cfd320a4",
   "metadata": {},
   "source": [
    "#### What variable(s) are considered to be the features for your model?"
   ]
  },
  {
   "cell_type": "markdown",
   "id": "7d2667d7",
   "metadata": {},
   "source": [
    "    Name, Application, Type, Afflication, Calssification, Use_Case, Organization, Income_Amt, Special_Considerations, Status, & Ask-Amt"
   ]
  },
  {
   "cell_type": "markdown",
   "id": "749ebad7",
   "metadata": {},
   "source": [
    "#### What variable(s) are neither targets nor features, and should be removed from the input data?"
   ]
  },
  {
   "cell_type": "markdown",
   "id": "e1f4d92e",
   "metadata": {},
   "source": [
    "        EIN was dropped. Sepecial_Considerations and Status both were not siginficant to the model"
   ]
  },
  {
   "cell_type": "markdown",
   "id": "8ee2d750",
   "metadata": {},
   "source": [
    "## Compiling, Training, & Evaluating the Model"
   ]
  },
  {
   "cell_type": "markdown",
   "id": "2a6919ac",
   "metadata": {},
   "source": [
    "#### How many neurons, layers, and activation functions did you select for your neural network model, and why?"
   ]
  },
  {
   "cell_type": "markdown",
   "id": "90a424c2",
   "metadata": {},
   "source": [
    "    Three hidden layers were required to meet the required 75% accuracy. Relu, Sigmoid, & Sigmoid activation functions also helped increase the accuracy."
   ]
  },
  {
   "cell_type": "markdown",
   "id": "674386f3",
   "metadata": {},
   "source": [
    "#### Were you able to achieve the target model perforWere you able to achieve the target model performance?"
   ]
  },
  {
   "cell_type": "markdown",
   "id": "ae00c658",
   "metadata": {},
   "source": [
    "    Yes the model met the required minmum accuracy of 75%"
   ]
  },
  {
   "cell_type": "markdown",
   "id": "e2fc4351",
   "metadata": {},
   "source": [
    "#### What steps did you take to try and increase model performance?"
   ]
  },
  {
   "cell_type": "markdown",
   "id": "b8ae2727",
   "metadata": {},
   "source": [
    "    3 Layers and (Relu, Sigmoid, Sigmoid) changes optimized the performance to meet the 75% accuracry requirement"
   ]
  },
  {
   "cell_type": "markdown",
   "id": "a3e9c3f0",
   "metadata": {},
   "source": [
    "## Summary"
   ]
  },
  {
   "cell_type": "markdown",
   "id": "00a3a859",
   "metadata": {},
   "source": [
    "    By optmizing the Neural Network the accuracy was increased to 78%. Howevery by using a Random Forest Classification Model the accuracry was 77.6%. Although the accuracy on the NN model was higher, it took more computing power and time to train. Therefore a Random Forest Classification Model is prefered or future development. "
   ]
  },
  {
   "cell_type": "code",
   "execution_count": null,
   "id": "d8367344",
   "metadata": {},
   "outputs": [],
   "source": []
  }
 ],
 "metadata": {
  "kernelspec": {
   "display_name": "Python 3",
   "language": "python",
   "name": "python3"
  },
  "language_info": {
   "codemirror_mode": {
    "name": "ipython",
    "version": 3
   },
   "file_extension": ".py",
   "mimetype": "text/x-python",
   "name": "python",
   "nbconvert_exporter": "python",
   "pygments_lexer": "ipython3",
   "version": "3.8.8"
  }
 },
 "nbformat": 4,
 "nbformat_minor": 5
}
